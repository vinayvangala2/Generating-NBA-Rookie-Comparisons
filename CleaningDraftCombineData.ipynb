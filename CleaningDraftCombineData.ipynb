{
 "cells": [
  {
   "cell_type": "code",
   "execution_count": 1,
   "id": "ea412457",
   "metadata": {},
   "outputs": [],
   "source": [
    "import pandas as pd\n",
    "import matplotlib.pyplot as plt\n",
    "import numpy as np"
   ]
  },
  {
   "cell_type": "code",
   "execution_count": 2,
   "id": "b0e7ddd7",
   "metadata": {},
   "outputs": [
    {
     "name": "stdout",
     "output_type": "stream",
     "text": [
      "🔎 Missing values per column:\n",
      "YEAR           0\n",
      "PLAYER         0\n",
      "POS            1\n",
      "HGT            4\n",
      "WGT            5\n",
      "BMI            5\n",
      "BF           441\n",
      "WNGSPN         3\n",
      "STNDRCH        5\n",
      "HANDL        733\n",
      "HANDW        733\n",
      "STNDVERT     189\n",
      "LPVERT       189\n",
      "LANE         198\n",
      "SHUTTLE     1061\n",
      "SPRINT       197\n",
      "BENCH        604\n",
      "BAR            4\n",
      "PAN          733\n",
      "PBHGT        190\n",
      "PDHGT        190\n",
      "dtype: int64\n",
      "\n",
      "🧮 Rows with at least one missing value: 1450 out of 1678\n"
     ]
    }
   ],
   "source": [
    "df = pd.read_csv(\"draftcombinedata.csv\")\n",
    "\n",
    "na_per_column = df.isna().sum()\n",
    "print(\"Missing values per column:\")\n",
    "print(na_per_column)\n",
    "\n",
    "rows_with_any_na = df.isna().any(axis=1).sum()\n",
    "print(f\"Rows with at least one missing value: {rows_with_any_na} out of {len(df)}\")"
   ]
  },
  {
   "cell_type": "code",
   "execution_count": 3,
   "id": "fd90e0e0",
   "metadata": {},
   "outputs": [
    {
     "name": "stdout",
     "output_type": "stream",
     "text": [
      "✅ Cleaned data saved to draftcombine_cleaned.csv\n"
     ]
    }
   ],
   "source": [
    "df = pd.read_csv(\"draftcombinedata.csv\")\n",
    "\n",
    "columns_to_keep = [\"PLAYER\", \"HGT\", \"WGT\", \"BMI\", \"WNGSPN\", \"STNDRCH\", \"BAR\"]\n",
    "df = df[columns_to_keep]\n",
    "\n",
    "df = df.dropna()\n",
    "\n",
    "def fix_name(name):\n",
    "    if \",\" in name:\n",
    "        last, first = name.split(\",\", 1)\n",
    "        return first.strip() + \" \" + last.strip()\n",
    "    return name.strip()\n",
    "\n",
    "df[\"PLAYER\"] = df[\"PLAYER\"].apply(fix_name)\n",
    "\n",
    "df.to_csv(\"draftcombine_cleaned.csv\", index=False)\n",
    "print(\"Cleaned data saved to draftcombine_cleaned.csv\")"
   ]
  },
  {
   "cell_type": "code",
   "execution_count": null,
   "id": "b5dc5b17",
   "metadata": {},
   "outputs": [],
   "source": []
  }
 ],
 "metadata": {
  "kernelspec": {
   "display_name": "Python 3 (ipykernel)",
   "language": "python",
   "name": "python3"
  },
  "language_info": {
   "codemirror_mode": {
    "name": "ipython",
    "version": 3
   },
   "file_extension": ".py",
   "mimetype": "text/x-python",
   "name": "python",
   "nbconvert_exporter": "python",
   "pygments_lexer": "ipython3",
   "version": "3.8.5"
  }
 },
 "nbformat": 4,
 "nbformat_minor": 5
}
